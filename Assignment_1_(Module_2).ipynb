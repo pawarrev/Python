{
  "nbformat": 4,
  "nbformat_minor": 0,
  "metadata": {
    "colab": {
      "provenance": []
    },
    "kernelspec": {
      "name": "python3",
      "display_name": "Python 3"
    },
    "language_info": {
      "name": "python"
    }
  },
  "cells": [
    {
      "cell_type": "markdown",
      "source": [
        "**>Python Basics Questions**"
      ],
      "metadata": {
        "id": "w6-_SKUnFhEe"
      }
    },
    {
      "cell_type": "markdown",
      "source": [
        "1. What is Python, and why is it popular?\n",
        "\n",
        "Ans: Python is a high-level, interpreted programming language that is known for its simplicity and readability.\n",
        "\n",
        "Python has gained significant popularity for several reasons, including:\n",
        "\n",
        "i) Simplicity and Readability\n",
        "ii) Versatility\n",
        "iii) Wide Range of Libraries and Frameworks\n",
        "iv) powerful for specific tasks\n",
        "v) Web development\n",
        "vi) Data analysis\n",
        "vii) Machine learning\n",
        "viii) Automation\n",
        "ix) Open Source:\n",
        "x) Integration and Compatibility:"
      ],
      "metadata": {
        "id": "Q7xGISu1FxEt"
      }
    },
    {
      "cell_type": "markdown",
      "source": [
        "2. What is an interpreter in Python?\n",
        "\n",
        "Ans: In Python, an interpreter is a program that reads and executes Python code line by line. An interpreter processes the code one instruction at a time, directly executing the instructions as it reads them."
      ],
      "metadata": {
        "id": "Ud71_Wu1HtfJ"
      }
    },
    {
      "cell_type": "markdown",
      "source": [
        "3. What are pre-defined keywords in Python?\n",
        "\n",
        "Ans: Predefined Keywords are reserved words that have a special meaning and cannot be used as identifiers (such as variable names, function names, or class names). These keywords are predefined by the Python language."
      ],
      "metadata": {
        "id": "mXBz8_3fIxNI"
      }
    },
    {
      "cell_type": "markdown",
      "source": [
        "4. Can keywords be used as variable names?\n",
        "\n",
        "Ans: Keywords in Python cannot be used as variable names.\n",
        "Keywords are reserved words that have a special meaning in Python's syntax and are integral to the language's structure. They are predefined in the Python language, and using them as variable names would lead to a syntax error"
      ],
      "metadata": {
        "id": "0f0gVSZVJYNF"
      }
    },
    {
      "cell_type": "markdown",
      "source": [
        "5. What is mutability in Python?\n",
        "\n",
        "Ans: In Python, mutability refers to the ability of an object to be changed after it is created. In other words, mutable objects can be modified (i.e., their content can be changed), while immutable objects cannot be changed once they are created."
      ],
      "metadata": {
        "id": "N0tYoA4uJ1XH"
      }
    },
    {
      "cell_type": "markdown",
      "source": [
        "6. Why are lists mutable, but tuples are immutable?\n",
        "\n",
        "Ans: Lists are mutable because they are designed for dynamic collections of data that need to be changed during program execution. This flexibility comes with a small performance cost.\n",
        "Tuples are immutable because they are intended for fixed collections of data that should remain unchanged, offering better performance, memory efficiency, and safety in certain use cases."
      ],
      "metadata": {
        "id": "4dNeiC0uKLFE"
      }
    },
    {
      "cell_type": "markdown",
      "source": [
        "7.  What is the difference between “==” and “is” operators in Python?\n",
        "\n",
        "Ans: ==: Use when you want to compare the values or content of two objects. It's about equality in terms of the data they hold.\n",
        "\n",
        "\n",
        "is: Use when you want to check if two variables refer to the same object in memory. It’s about identity and is typically used to compare if two objects are exactly the same instance."
      ],
      "metadata": {
        "id": "wadLgImsLFaC"
      }
    },
    {
      "cell_type": "markdown",
      "source": [
        "8. What are logical operators in Python?\n",
        "\n",
        "Ans: logical operators are used to combine conditional statements and evaluate their truth values. These operators allow you to perform logical operations on Boolean expressions.\n",
        "\n",
        "The main logical operators in Python are:\n",
        "\n",
        "and\n",
        "\n",
        "or\n",
        "\n",
        "not"
      ],
      "metadata": {
        "id": "8J-de6NxMhTP"
      }
    },
    {
      "cell_type": "markdown",
      "source": [
        "9. What is type casting in Python?\n",
        "\n",
        "Ans: Type casting in Python refers to the process of converting one data type into another. It is used when you want to convert an object of one type to another type to perform operations or meet the requirements of a function or expression.\n",
        "\n",
        "There are two types of type casting in Python:\n",
        "\n",
        "i)Implicit Type Casting\n",
        "\n",
        "ii)Explicit Type Casting"
      ],
      "metadata": {
        "id": "P7GUMMcJNjV6"
      }
    },
    {
      "cell_type": "markdown",
      "source": [
        "10. What is the difference between implicit and explicit type casting?\n",
        "\n",
        "Ans: i) Implicit Type Casting is automatic and happens when Python convertssmaller types to larger types (e.g., from int to float), and you don't need to do anything for it to occur.No need to handle errors. Python handles the conversion\n",
        "\n",
        "ii) Explicit Type Casting requires the programmer to manually specify how data should be converted using built-in functions like int(), float(), etc. It is used when the programmer wants to control the conversion process. Errors might occur if incompatible types are used for conversion\n"
      ],
      "metadata": {
        "id": "l05kGNfgOBoX"
      }
    },
    {
      "cell_type": "markdown",
      "source": [
        "11. What is the purpose of conditional statements in Python?\n",
        "\n",
        "Ans: Conditional statements are fundamental in Python and programming in general, allowing for flexible decision-making.\n",
        "They help the program make choices based on conditions, enabling the implementation of logic and dynamic behavior based on various scenarios.\n",
        "\n",
        "Decision Making: Conditional statements allow the program to decide which action to take based on conditions (like whether a number is positive or negative).\n",
        "\n",
        "Flow Control: They help in controlling the flow of the program. The program can take different paths depending on the condition.\n",
        "\n",
        "Efficient Program Execution: Conditional statements help avoid unnecessary operations by only executing certain blocks of code when necessary."
      ],
      "metadata": {
        "id": "8YM21edTPMoX"
      }
    },
    {
      "cell_type": "markdown",
      "source": [
        "12. How does the elif statement work?\n",
        "\n",
        "Ans:\n",
        "The elif statement in Python stands for \"else if\" and is used in conditional statements to check multiple conditions in a sequence. It provides an alternative condition to test if the previous if condition was False.\n",
        "\n",
        "How the elif Statement Works:\n",
        "The if statement is evaluated first. If the condition in the if statement is True, the associated block of code will be executed, and the remaining elif or else statements are ignored.\n",
        "If the condition in the if statement is False, Python will check the next elif condition.\n",
        "If any elif condition evaluates to True, the corresponding block of code will be executed, and the rest of the conditions (including elif and else) are ignored."
      ],
      "metadata": {
        "id": "yACiaODBQdxB"
      }
    },
    {
      "cell_type": "markdown",
      "source": [
        "13. What is the difference between for and while loops?\n",
        "\n",
        "Ans: i) while Loop:\n",
        "The while loop is used when you want to repeat a block of code as long as a given condition is True. It is more flexible and is typically used when you don't know in advance how many iterations you'll need.\n",
        "ii) The for loop is generally used when you know in advance how many times you want to iterate over a sequence (like a list, string, tuple, or range). It is used to iterate over an iterable object and executes a block of code for each item in that iterable."
      ],
      "metadata": {
        "id": "cAtmhWHGRQiU"
      }
    },
    {
      "cell_type": "markdown",
      "source": [
        "14. Describe a scenario where a while loop is more suitable than a for loop?\n",
        "\n",
        "Ans: A while loop is more suitable than a for loop when you don’t know in advance how many iterations you need and the loop should run based on a dynamic condition that may change during the execution of the loop. This makes the while loop ideal for situations where the loop should continue until a specific condition is met, and this condition depends on runtime factors or user input."
      ],
      "metadata": {
        "id": "AzKSoV7nSO-Y"
      }
    },
    {
      "cell_type": "markdown",
      "source": [
        "\n",
        "**>Practial Question**"
      ],
      "metadata": {
        "id": "K5-90LjiTc_U"
      }
    },
    {
      "cell_type": "code",
      "execution_count": null,
      "metadata": {
        "colab": {
          "base_uri": "https://localhost:8080/"
        },
        "id": "HL3aNQ8ZRHDa",
        "outputId": "e051887f-d633-439b-afc6-a0ace876b02a"
      },
      "outputs": [
        {
          "output_type": "stream",
          "name": "stdout",
          "text": [
            "Hello, World\n"
          ]
        }
      ],
      "source": [
        "#1 Write a Python program to print \"Hello, World!\"\n",
        "\n",
        "print(\"Hello, World\")"
      ]
    },
    {
      "cell_type": "code",
      "source": [
        "#2 Write a Python program that displays your name and age.\n",
        "\n",
        "name = \"Revati\"\n",
        "age = 23\n",
        "print(name, age)"
      ],
      "metadata": {
        "colab": {
          "base_uri": "https://localhost:8080/"
        },
        "id": "y5cD1XAcSg0g",
        "outputId": "1ec540e4-a106-4712-f72f-cdc8341e03e3"
      },
      "execution_count": null,
      "outputs": [
        {
          "output_type": "stream",
          "name": "stdout",
          "text": [
            "Revati 23\n"
          ]
        }
      ]
    },
    {
      "cell_type": "code",
      "source": [
        "name = input(\"Please enter your name here \")\n",
        "age = input(\"Please enter your age here \")"
      ],
      "metadata": {
        "colab": {
          "base_uri": "https://localhost:8080/"
        },
        "id": "ZodIZiR1SyV8",
        "outputId": "1721337b-967f-49ac-ec48-9c0778912f7b"
      },
      "execution_count": null,
      "outputs": [
        {
          "name": "stdout",
          "output_type": "stream",
          "text": [
            "Please enter your name here Revati\n",
            "Please enter your age here 23\n"
          ]
        }
      ]
    },
    {
      "cell_type": "code",
      "source": [
        "#3 Write code to print all the pre-defined keywords in Python using the keyword library.\n",
        "\n",
        "import keyword\n",
        "print(keyword.kwlist)\n",
        "\n",
        "#OR\n",
        "\n",
        "help(\"keywords\")"
      ],
      "metadata": {
        "colab": {
          "base_uri": "https://localhost:8080/"
        },
        "id": "Pvh_ajpdTLxT",
        "outputId": "62ce45d1-7698-4326-9f5c-84ed8e7ec0ca"
      },
      "execution_count": null,
      "outputs": [
        {
          "output_type": "stream",
          "name": "stdout",
          "text": [
            "['False', 'None', 'True', 'and', 'as', 'assert', 'async', 'await', 'break', 'class', 'continue', 'def', 'del', 'elif', 'else', 'except', 'finally', 'for', 'from', 'global', 'if', 'import', 'in', 'is', 'lambda', 'nonlocal', 'not', 'or', 'pass', 'raise', 'return', 'try', 'while', 'with', 'yield']\n",
            "\n",
            "Here is a list of the Python keywords.  Enter any keyword to get more help.\n",
            "\n",
            "False               class               from                or\n",
            "None                continue            global              pass\n",
            "True                def                 if                  raise\n",
            "and                 del                 import              return\n",
            "as                  elif                in                  try\n",
            "assert              else                is                  while\n",
            "async               except              lambda              with\n",
            "await               finally             nonlocal            yield\n",
            "break               for                 not                 \n",
            "\n"
          ]
        }
      ]
    },
    {
      "cell_type": "code",
      "source": [
        "#4 Write a program that checks if a given word is a Python keyword\n",
        "\n",
        "import keyword\n",
        "a = keyword.kwlist\n",
        "i = input(\"please enter word \")\n",
        "\n",
        "if i in a:\n",
        "  print(\"this is python keyword\")\n",
        "else:\n",
        "  print(\"this is not a keyword\")"
      ],
      "metadata": {
        "colab": {
          "base_uri": "https://localhost:8080/"
        },
        "id": "rcVbgRw7T4aL",
        "outputId": "da015fb5-1a59-456b-ba33-dc17034192fa"
      },
      "execution_count": null,
      "outputs": [
        {
          "output_type": "stream",
          "name": "stdout",
          "text": [
            "please enter word lambda\n",
            "this is python keyword\n"
          ]
        }
      ]
    },
    {
      "cell_type": "code",
      "source": [
        "#5 Create a list and tuple in Python, and demonstrate how attempting to change an element works differently for each.\n",
        "\n",
        "Lst= [\"Omega\", \"2\", 3, 1 + 5j]\n",
        "Tupl= (\"orange\", 3, 5+10j, \"5\")"
      ],
      "metadata": {
        "id": "r2JwbD44V_H5"
      },
      "execution_count": null,
      "outputs": []
    },
    {
      "cell_type": "code",
      "source": [
        "Lst[-2] = 6"
      ],
      "metadata": {
        "id": "byIWzM9hYiqQ"
      },
      "execution_count": null,
      "outputs": []
    },
    {
      "cell_type": "code",
      "source": [
        "Lst"
      ],
      "metadata": {
        "colab": {
          "base_uri": "https://localhost:8080/"
        },
        "id": "i93UTpvcbahS",
        "outputId": "18bd8981-be9f-45e3-8a1e-cfe16acf8a75"
      },
      "execution_count": null,
      "outputs": [
        {
          "output_type": "execute_result",
          "data": {
            "text/plain": [
              "['Omega', '2', 6, (1+5j)]"
            ]
          },
          "metadata": {},
          "execution_count": 32
        }
      ]
    },
    {
      "cell_type": "code",
      "source": [
        "Tupl[-2] = 4"
      ],
      "metadata": {
        "colab": {
          "base_uri": "https://localhost:8080/",
          "height": 141
        },
        "id": "jQWrOjOabdSa",
        "outputId": "2afdc985-21f2-4117-a7ec-7d1c4bb171d9"
      },
      "execution_count": null,
      "outputs": [
        {
          "output_type": "error",
          "ename": "TypeError",
          "evalue": "'tuple' object does not support item assignment",
          "traceback": [
            "\u001b[0;31m---------------------------------------------------------------------------\u001b[0m",
            "\u001b[0;31mTypeError\u001b[0m                                 Traceback (most recent call last)",
            "\u001b[0;32m<ipython-input-33-edff7e2a0840>\u001b[0m in \u001b[0;36m<cell line: 1>\u001b[0;34m()\u001b[0m\n\u001b[0;32m----> 1\u001b[0;31m \u001b[0mTupl\u001b[0m\u001b[0;34m[\u001b[0m\u001b[0;34m-\u001b[0m\u001b[0;36m2\u001b[0m\u001b[0;34m]\u001b[0m \u001b[0;34m=\u001b[0m \u001b[0;36m4\u001b[0m\u001b[0;34m\u001b[0m\u001b[0;34m\u001b[0m\u001b[0m\n\u001b[0m",
            "\u001b[0;31mTypeError\u001b[0m: 'tuple' object does not support item assignment"
          ]
        }
      ]
    },
    {
      "cell_type": "code",
      "source": [
        "#6 Write a function to demonstrate the behavior of mutable and immutable arguments.\n",
        "\n",
        "def new_list(list):\n",
        "    list.append(23)\n",
        "\n",
        "def new_string(A):\n",
        "    A += \"HELP\"\n",
        "\n",
        "list = [12, 15, 18]\n",
        "A = \"Please\"\n",
        "\n",
        "new_list(list)     #Mutability\n",
        "print(list)\n",
        "\n",
        "new_string(A)      #Immutability\n",
        "print(A)"
      ],
      "metadata": {
        "colab": {
          "base_uri": "https://localhost:8080/"
        },
        "id": "vE3nna2Gchvp",
        "outputId": "05a260b0-da15-4800-83dc-34969d753e7f"
      },
      "execution_count": null,
      "outputs": [
        {
          "output_type": "stream",
          "name": "stdout",
          "text": [
            "[12, 15, 18, 23]\n",
            "Please\n"
          ]
        }
      ]
    },
    {
      "cell_type": "code",
      "source": [
        "#7 Write a function to demonstrate the behavior of mutable and immutable arguments.\n",
        "\n",
        "def new_list(list):\n",
        "    list.append(23)\n",
        "\n",
        "def new_string(A):\n",
        "    A += \"HELP\"\n",
        "\n",
        "list = [12, 15, 18]\n",
        "A = \"Please\"\n",
        "\n",
        "new_list(list)     #Mutability\n",
        "print(list)\n",
        "\n",
        "new_string(A)      #Immutability\n",
        "print(A)\n"
      ],
      "metadata": {
        "colab": {
          "base_uri": "https://localhost:8080/"
        },
        "id": "zhdOflDfpTHL",
        "outputId": "7c82999e-4906-45c5-f253-f5d1b2ac2680"
      },
      "execution_count": null,
      "outputs": [
        {
          "output_type": "stream",
          "name": "stdout",
          "text": [
            "[12, 15, 18, 23]\n",
            "Please\n"
          ]
        }
      ]
    },
    {
      "cell_type": "code",
      "source": [
        "#8. Write a program to demonstrate the use of logical operators.\n",
        "\n",
        "age= int(input(\"please enter your age here \"))\n",
        "location = \"Banglore\"\n",
        "\n",
        "if age >= 18 and location == \"Banglore\":           #AND Operator\n",
        "  print(\"Will play cricket\")\n",
        "\n",
        "else:\n",
        "  print(\"Will not play cricket\")\n",
        "\n",
        "if age >= 18 or location == \"Banglore\":           #OR Operator\n",
        "  print(\"Will play cricket\")\n",
        "\n",
        "else:\n",
        "  print(\"Will not play cricket\")\n",
        "\n",
        "if not(age >= 18 or location == \"Banglore\"):           #NOT Operator\n",
        "  print(\"Will play cricket\")\n",
        "\n",
        "else:\n",
        "  print(\"Will not play cricket\")"
      ],
      "metadata": {
        "id": "2LtUATpUqLuD",
        "colab": {
          "base_uri": "https://localhost:8080/"
        },
        "outputId": "eae535bc-d2ce-4e71-8853-7cda71f37ae0"
      },
      "execution_count": null,
      "outputs": [
        {
          "output_type": "stream",
          "name": "stdout",
          "text": [
            "please enter your age here 17\n",
            "Will not play cricket\n",
            "Will play cricket\n",
            "Will not play cricket\n"
          ]
        }
      ]
    },
    {
      "cell_type": "code",
      "source": [
        "#9 Write a Python program to convert user input from string to integer, float, and boolean types.\n",
        "\n",
        "Age= input(\"Please input your age here \")\n",
        "\n",
        "def type_conversion(Age):\n",
        "  print(int(Age))\n",
        "  print(float(Age))\n",
        "  print(bool(Age))\n",
        "\n",
        "type_conversion(Age)\n"
      ],
      "metadata": {
        "colab": {
          "base_uri": "https://localhost:8080/"
        },
        "id": "ZHt6NbX3R183",
        "outputId": "fb1b483b-9b42-4f78-d4bc-732968de08cb"
      },
      "execution_count": null,
      "outputs": [
        {
          "output_type": "stream",
          "name": "stdout",
          "text": [
            "Please input your age here 17\n",
            "17\n",
            "17.0\n",
            "True\n"
          ]
        }
      ]
    },
    {
      "cell_type": "code",
      "source": [
        "               #OR\n",
        "\n",
        "Age= int(Age)                                         #Conversion to Integer\n",
        "print(Age)\n",
        "Age= float(Age)                                       #Conversion to float\n",
        "print(Age)\n",
        "Age= bool(Age)                                        #Conversion to boolean\n",
        "print(Age)"
      ],
      "metadata": {
        "colab": {
          "base_uri": "https://localhost:8080/"
        },
        "id": "-i3ApshUWe6d",
        "outputId": "4f365358-0c1b-4163-fab2-34e3cdb60411"
      },
      "execution_count": null,
      "outputs": [
        {
          "output_type": "stream",
          "name": "stdout",
          "text": [
            "17\n",
            "17.0\n",
            "True\n"
          ]
        }
      ]
    },
    {
      "cell_type": "code",
      "source": [
        "#10 Write code to demonstrate type casting with list elements.\n",
        "\n",
        "Exam=[\"1\", \"hi\", 3+6j, 10.9]\n",
        "\n",
        "def list_conv(Exam):\n",
        "\n",
        "  my_tuple= tuple(Exam)        #List to Tuple conversion(Type Casting)\n",
        "  print(\"Tuple:\", my_tuple)\n",
        "\n",
        "list_conv(Exam)"
      ],
      "metadata": {
        "colab": {
          "base_uri": "https://localhost:8080/"
        },
        "id": "Ejp5Zm9IW4Xh",
        "outputId": "1bee720c-b6f1-4706-c889-ccf0e753bb65"
      },
      "execution_count": null,
      "outputs": [
        {
          "output_type": "stream",
          "name": "stdout",
          "text": [
            "Tuple: ('1', 'hi', (3+6j), 10.9)\n"
          ]
        }
      ]
    },
    {
      "cell_type": "code",
      "source": [],
      "metadata": {
        "id": "5mmVPSVf-Dok"
      },
      "execution_count": null,
      "outputs": []
    },
    {
      "cell_type": "code",
      "source": [
        "#11 Write a program that checks if a number is positive, negative, or zero\n",
        "\n",
        "a = int(input(\"Please enter a number \"))\n",
        "type(a)\n",
        "if a > 0:\n",
        "  print(\"Positive\")\n",
        "elif a < 0:\n",
        "  print(\"Negative\")\n",
        "else:\n",
        "  print(\"Zero\")\n"
      ],
      "metadata": {
        "colab": {
          "base_uri": "https://localhost:8080/"
        },
        "id": "k-EXIO_QZRQC",
        "outputId": "d3461395-44bc-41ef-b306-19af6f0a6a36"
      },
      "execution_count": null,
      "outputs": [
        {
          "output_type": "stream",
          "name": "stdout",
          "text": [
            "Please enter a number -2\n",
            "Negative\n"
          ]
        }
      ]
    },
    {
      "cell_type": "code",
      "source": [
        "#12 Write a for loop to print numbers from l to 10.\n",
        "\n",
        "l = 10\n",
        "for i in range(1, l+1):\n",
        "  print(i)"
      ],
      "metadata": {
        "colab": {
          "base_uri": "https://localhost:8080/"
        },
        "id": "9jdMix2Pq1bp",
        "outputId": "01520a49-c973-4e58-97a2-39286067e580"
      },
      "execution_count": null,
      "outputs": [
        {
          "output_type": "stream",
          "name": "stdout",
          "text": [
            "1\n",
            "2\n",
            "3\n",
            "4\n",
            "5\n",
            "6\n",
            "7\n",
            "8\n",
            "9\n",
            "10\n"
          ]
        }
      ]
    },
    {
      "cell_type": "code",
      "source": [
        "#13 Write a Python program to find the sum of all even numbers between 1 and 50\n",
        "\n",
        "sum_of_even= sum([number for number in range(2, 51, 2)])\n",
        "print(\"sum of even numbers upto 50:\", sum_of_even)\n"
      ],
      "metadata": {
        "colab": {
          "base_uri": "https://localhost:8080/"
        },
        "id": "ZQ5EdnnCygP6",
        "outputId": "5d9be440-174a-4ecb-c375-337bdb0ad967"
      },
      "execution_count": null,
      "outputs": [
        {
          "output_type": "stream",
          "name": "stdout",
          "text": [
            "sum of even numbers upto 50: 650\n"
          ]
        }
      ]
    },
    {
      "cell_type": "code",
      "source": [
        "#14 Write a program to reverse a string using a while loop.\n",
        "\n",
        "a = input(\"Please enter a string here \")\n",
        "\n",
        "def reverse_string(a):\n",
        "    reversed_string = \"\"\n",
        "    index = len(a) - 1\n",
        "\n",
        "    while index >= 0:\n",
        "        reversed_string += a[index]\n",
        "        index -= 1\n",
        "\n",
        "    return reversed_string\n",
        "\n",
        "reverse_string(a)\n",
        "\n"
      ],
      "metadata": {
        "colab": {
          "base_uri": "https://localhost:8080/",
          "height": 55
        },
        "id": "94L4wT-NyzCm",
        "outputId": "9a8ab67d-0990-4e93-f87f-683c5f9da63b"
      },
      "execution_count": null,
      "outputs": [
        {
          "name": "stdout",
          "output_type": "stream",
          "text": [
            "Please enter a string here shantnu\n"
          ]
        },
        {
          "output_type": "execute_result",
          "data": {
            "text/plain": [
              "'untnahs'"
            ],
            "application/vnd.google.colaboratory.intrinsic+json": {
              "type": "string"
            }
          },
          "metadata": {},
          "execution_count": 5
        }
      ]
    },
    {
      "cell_type": "code",
      "source": [
        "#15 Write a Python program to calculate the factorial of a number provided by the user using a while loop.\n",
        "\n",
        "a= int(input(\"Please enter a factorial of a number here\"))\n",
        "\n",
        "def factorial(num):\n",
        "    # Initialize result variable\n",
        "    result = 1\n",
        "\n",
        "    # Check for valid input (non-negative integer)\n",
        "    if num < 0:\n",
        "        return \"Factorial does not exist for negative numbers\"\n",
        "\n",
        "    # Calculate factorial using a while loop\n",
        "    while num > 1:\n",
        "        result *= num  # Multiply result by current num\n",
        "        num -= 1  # Decrease num by 1\n",
        "\n",
        "    return result\n",
        "\n",
        "print(factorial(a))\n"
      ],
      "metadata": {
        "colab": {
          "base_uri": "https://localhost:8080/"
        },
        "id": "4CoII0ET6vLE",
        "outputId": "f18b0366-0ab6-4bfd-a164-7d838f8cbaaa"
      },
      "execution_count": null,
      "outputs": [
        {
          "output_type": "stream",
          "name": "stdout",
          "text": [
            "Please enter a factorial of a number here5\n",
            "120\n"
          ]
        }
      ]
    },
    {
      "cell_type": "code",
      "source": [],
      "metadata": {
        "id": "5Su1EE_o8gzN"
      },
      "execution_count": null,
      "outputs": []
    }
  ]
}